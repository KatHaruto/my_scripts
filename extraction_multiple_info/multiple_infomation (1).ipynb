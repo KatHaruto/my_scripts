{
  "cells": [
    {
      "cell_type": "code",
      "execution_count": null,
      "metadata": {
        "colab": {
          "base_uri": "https://localhost:8080/"
        },
        "id": "Wp5GdqY4rJCJ",
        "outputId": "e3909ae3-c4d4-428e-bf28-7f2fac89311e"
      },
      "outputs": [
        {
          "output_type": "stream",
          "name": "stdout",
          "text": [
            "Looking in indexes: https://pypi.org/simple, https://us-python.pkg.dev/colab-wheels/public/simple/\n",
            "Collecting demoji\n",
            "  Downloading demoji-1.1.0-py3-none-any.whl (42 kB)\n",
            "\u001b[2K     \u001b[90m━━━━━━━━━━━━━━━━━━━━━━━━━━━━━━━━━━━━━━━━\u001b[0m \u001b[32m42.9/42.9 kB\u001b[0m \u001b[31m5.5 MB/s\u001b[0m eta \u001b[36m0:00:00\u001b[0m\n",
            "\u001b[?25hCollecting neologdn\n",
            "  Downloading neologdn-0.5.1.tar.gz (57 kB)\n",
            "\u001b[2K     \u001b[90m━━━━━━━━━━━━━━━━━━━━━━━━━━━━━━━━━━━━━━━━\u001b[0m \u001b[32m57.2/57.2 kB\u001b[0m \u001b[31m8.1 MB/s\u001b[0m eta \u001b[36m0:00:00\u001b[0m\n",
            "\u001b[?25h  Preparing metadata (setup.py) ... \u001b[?25l\u001b[?25hdone\n",
            "Collecting mecab-python3\n",
            "  Downloading mecab_python3-1.0.6-cp39-cp39-manylinux_2_17_x86_64.manylinux2014_x86_64.whl (581 kB)\n",
            "\u001b[2K     \u001b[90m━━━━━━━━━━━━━━━━━━━━━━━━━━━━━━━━━━━━━━\u001b[0m \u001b[32m581.5/581.5 kB\u001b[0m \u001b[31m50.7 MB/s\u001b[0m eta \u001b[36m0:00:00\u001b[0m\n",
            "\u001b[?25hBuilding wheels for collected packages: neologdn\n",
            "  Building wheel for neologdn (setup.py) ... \u001b[?25l\u001b[?25hdone\n",
            "  Created wheel for neologdn: filename=neologdn-0.5.1-cp39-cp39-linux_x86_64.whl size=205505 sha256=4f4e5cef3fcf17cbe55a141eef44e95250997cdcfccc482a334f253f756e181e\n",
            "  Stored in directory: /root/.cache/pip/wheels/b9/86/e7/4aee13f3da56da7dfc8327074406a701a2d99eaa842f805eaf\n",
            "Successfully built neologdn\n",
            "Installing collected packages: neologdn, mecab-python3, demoji\n",
            "Successfully installed demoji-1.1.0 mecab-python3-1.0.6 neologdn-0.5.1\n",
            "Mounted at /content/drive/\n"
          ]
        }
      ],
      "source": [
        "!pip install demoji neologdn mecab-python3\n",
        "\n",
        "from google.colab import drive\n",
        "drive.mount('/content/drive/')\n",
        "\n",
        "import os\n",
        "os.environ[\"MECABRC\"] = '/content/drive/MyDrive/mecab/etc/mecabrc'\n",
        "\n",
        "\n"
      ]
    },
    {
      "cell_type": "code",
      "execution_count": null,
      "metadata": {
        "id": "UxHZ8DjtXiGj"
      },
      "outputs": [],
      "source": [
        "import MeCab\n",
        "from sklearn.base import BaseEstimator,TransformerMixin\n",
        "import matplotlib.pyplot as plt\n",
        "from sklearn.compose import ColumnTransformer\n",
        "from sklearn.preprocessing import FunctionTransformer\n",
        "from sklearn.pipeline import FeatureUnion,make_pipeline\n",
        "from sklearn.decomposition import TruncatedSVD\n",
        "from sklearn.feature_extraction.text import CountVectorizer, TfidfVectorizer\n",
        "from sklearn.ensemble import RandomForestClassifier\n",
        "from sklearn import svm\n",
        "from collections import Counter,defaultdict\n",
        "import re\n",
        "from sklearn.metrics import confusion_matrix, precision_score, recall_score, f1_score\n",
        "import numpy as np\n",
        "from sklearn.pipeline import Pipeline\n",
        "import demoji\n",
        "import pandas as pd\n",
        "import neologdn\n",
        "from scipy import sparse\n",
        "import json\n",
        "from sklearn.model_selection import train_test_split\n",
        "import  tqdm\n",
        "\n",
        "class PreprocessConverter(BaseEstimator,TransformerMixin):\n",
        "    def __init__(self):\n",
        "        pass\n",
        "\n",
        "    def fit(self,X,y=None):\n",
        "      return self\n",
        "\n",
        "    @classmethod\n",
        "    def preprocess(cls,text):\n",
        "        text = re.sub(r'\\n', ' ', text)\n",
        "        text = re.sub(r'http?://[\\w/:%#\\$&\\?\\(\\)~\\.=\\+\\-]+', '', text)\n",
        "        text = re.sub(r'https?://[\\w/:%#\\$&\\?\\(\\)~\\.=\\+\\-]+', '', text)\n",
        "        text = re.sub(r'^[a-zA-Z0-9_.+-]+@[a-zA-Z0-9-]+\\.[a-zA-Z0-9-.]+$',\"\",text)\n",
        "\n",
        "        text = demoji.replace(string=text, repl='')\n",
        "        text = text.lower()\n",
        "        text = neologdn.normalize(text, tilde='normalize')\n",
        "        return text\n",
        "\n",
        "    def transform(self,X,y=None):\n",
        "        if type(X) == list:\n",
        "            return list(map(self.preprocess,X))\n",
        "        if type(X) == pd.Series:\n",
        "            return X.apply(self.preprocess)\n",
        "\n",
        "    def fit_transform(self,X,y=None):\n",
        "        return self.transform(X)\n",
        "\n",
        "\n",
        "\n",
        "class OwakatiTokenizer(BaseEstimator,TransformerMixin):\n",
        "    def __init__(self, dicdir=None, rcfile=None,subject_body_split=True, **kwgs):\n",
        "        \"\"\"\n",
        "        :param dicdir: system dicdir `-d`\n",
        "        :param rcfile: resource file `-r`\n",
        "        \"\"\"\n",
        "        self.dicdir = dicdir\n",
        "        self.rcfile = rcfile\n",
        "        self.subject_body_split = subject_body_split\n",
        "        self.args = self.get_arguments()\n",
        "        self.tagger = MeCab.Tagger(self.args)\n",
        "\n",
        "    def wakati_text(self,text,select_conditions=['名詞','動詞']):\n",
        "        # 分けてノードごとにする\n",
        "        node = self.tagger.parseToNode(str(text))\n",
        "        terms = []\n",
        "\n",
        "        while node:\n",
        "\n",
        "            # 単語\n",
        "            term = node.surface\n",
        "\n",
        "            # 品詞\n",
        "            pos = node.feature.split(',')\n",
        "\n",
        "            # もし品詞が条件と一致してたら\n",
        "            if pos[0] in select_conditions:\n",
        "                if not (pos[0] == '名詞' and pos[1] == '固有名詞'): \n",
        "                    terms.append(term)\n",
        "\n",
        "\n",
        "            node = node.next\n",
        "\n",
        "        text_result = ' '.join(terms)\n",
        "        return text_result\n",
        "\n",
        "    def get_arguments(self):\n",
        "        args = [\"-Owakati\"]\n",
        "        if self.dicdir:\n",
        "            args.append(f\"-d {self.dicdir}\")\n",
        "        if self.rcfile:\n",
        "            args.append(f\"-r {self.rcfile}\")\n",
        "        return \" \".join(args)\n",
        "\n",
        "    def fit(self, X, y=None):\n",
        "        return self\n",
        "\n",
        "    def transform(self, X,y=None):\n",
        "        if type(X) == list:\n",
        "            return list(map(self.wakati_text,X))\n",
        "        if type(X) == pd.Series:\n",
        "            return X.apply(self.wakati_text)\n",
        "        \n",
        "        \n",
        "\n",
        "    def fit_transform(self, X, y=None):\n",
        "        return self.transform(X)\n",
        "\n",
        "\n",
        "    def __reduce_ex__(self, proto):\n",
        "        return type(self), (\n",
        "            self.dicdir,\n",
        "            self.rcfile,\n",
        "        )\n",
        "\n",
        "feature_pipeline = make_pipeline(\n",
        "                                                PreprocessConverter(),\n",
        "                                                OwakatiTokenizer(dicdir=\"/content/drive/MyDrive/mecab/mecab-ipadic-neologd\"),\n",
        "                                                CountVectorizer(),\n",
        "                                                TruncatedSVD(300),\n",
        "                                      )"
      ]
    },
    {
      "cell_type": "code",
      "execution_count": null,
      "metadata": {
        "colab": {
          "base_uri": "https://localhost:8080/",
          "height": 196
        },
        "id": "nINe6mCiEIo9",
        "outputId": "8a82afb7-a268-43e5-8bc6-b9005ff104a5"
      },
      "outputs": [
        {
          "output_type": "execute_result",
          "data": {
            "text/plain": [
              "Pipeline(steps=[('preprocessconverter', PreprocessConverter()),\n",
              "                ('owakatitokenizer',\n",
              "                 OwakatiTokenizer(dicdir='/content/drive/MyDrive/mecab/mecab-ipadic-neologd')),\n",
              "                ('countvectorizer', CountVectorizer()),\n",
              "                ('truncatedsvd', TruncatedSVD(n_components=300))])"
            ],
            "text/html": [
              "<style>#sk-container-id-1 {color: black;background-color: white;}#sk-container-id-1 pre{padding: 0;}#sk-container-id-1 div.sk-toggleable {background-color: white;}#sk-container-id-1 label.sk-toggleable__label {cursor: pointer;display: block;width: 100%;margin-bottom: 0;padding: 0.3em;box-sizing: border-box;text-align: center;}#sk-container-id-1 label.sk-toggleable__label-arrow:before {content: \"▸\";float: left;margin-right: 0.25em;color: #696969;}#sk-container-id-1 label.sk-toggleable__label-arrow:hover:before {color: black;}#sk-container-id-1 div.sk-estimator:hover label.sk-toggleable__label-arrow:before {color: black;}#sk-container-id-1 div.sk-toggleable__content {max-height: 0;max-width: 0;overflow: hidden;text-align: left;background-color: #f0f8ff;}#sk-container-id-1 div.sk-toggleable__content pre {margin: 0.2em;color: black;border-radius: 0.25em;background-color: #f0f8ff;}#sk-container-id-1 input.sk-toggleable__control:checked~div.sk-toggleable__content {max-height: 200px;max-width: 100%;overflow: auto;}#sk-container-id-1 input.sk-toggleable__control:checked~label.sk-toggleable__label-arrow:before {content: \"▾\";}#sk-container-id-1 div.sk-estimator input.sk-toggleable__control:checked~label.sk-toggleable__label {background-color: #d4ebff;}#sk-container-id-1 div.sk-label input.sk-toggleable__control:checked~label.sk-toggleable__label {background-color: #d4ebff;}#sk-container-id-1 input.sk-hidden--visually {border: 0;clip: rect(1px 1px 1px 1px);clip: rect(1px, 1px, 1px, 1px);height: 1px;margin: -1px;overflow: hidden;padding: 0;position: absolute;width: 1px;}#sk-container-id-1 div.sk-estimator {font-family: monospace;background-color: #f0f8ff;border: 1px dotted black;border-radius: 0.25em;box-sizing: border-box;margin-bottom: 0.5em;}#sk-container-id-1 div.sk-estimator:hover {background-color: #d4ebff;}#sk-container-id-1 div.sk-parallel-item::after {content: \"\";width: 100%;border-bottom: 1px solid gray;flex-grow: 1;}#sk-container-id-1 div.sk-label:hover label.sk-toggleable__label {background-color: #d4ebff;}#sk-container-id-1 div.sk-serial::before {content: \"\";position: absolute;border-left: 1px solid gray;box-sizing: border-box;top: 0;bottom: 0;left: 50%;z-index: 0;}#sk-container-id-1 div.sk-serial {display: flex;flex-direction: column;align-items: center;background-color: white;padding-right: 0.2em;padding-left: 0.2em;position: relative;}#sk-container-id-1 div.sk-item {position: relative;z-index: 1;}#sk-container-id-1 div.sk-parallel {display: flex;align-items: stretch;justify-content: center;background-color: white;position: relative;}#sk-container-id-1 div.sk-item::before, #sk-container-id-1 div.sk-parallel-item::before {content: \"\";position: absolute;border-left: 1px solid gray;box-sizing: border-box;top: 0;bottom: 0;left: 50%;z-index: -1;}#sk-container-id-1 div.sk-parallel-item {display: flex;flex-direction: column;z-index: 1;position: relative;background-color: white;}#sk-container-id-1 div.sk-parallel-item:first-child::after {align-self: flex-end;width: 50%;}#sk-container-id-1 div.sk-parallel-item:last-child::after {align-self: flex-start;width: 50%;}#sk-container-id-1 div.sk-parallel-item:only-child::after {width: 0;}#sk-container-id-1 div.sk-dashed-wrapped {border: 1px dashed gray;margin: 0 0.4em 0.5em 0.4em;box-sizing: border-box;padding-bottom: 0.4em;background-color: white;}#sk-container-id-1 div.sk-label label {font-family: monospace;font-weight: bold;display: inline-block;line-height: 1.2em;}#sk-container-id-1 div.sk-label-container {text-align: center;}#sk-container-id-1 div.sk-container {/* jupyter's `normalize.less` sets `[hidden] { display: none; }` but bootstrap.min.css set `[hidden] { display: none !important; }` so we also need the `!important` here to be able to override the default hidden behavior on the sphinx rendered scikit-learn.org. See: https://github.com/scikit-learn/scikit-learn/issues/21755 */display: inline-block !important;position: relative;}#sk-container-id-1 div.sk-text-repr-fallback {display: none;}</style><div id=\"sk-container-id-1\" class=\"sk-top-container\"><div class=\"sk-text-repr-fallback\"><pre>Pipeline(steps=[(&#x27;preprocessconverter&#x27;, PreprocessConverter()),\n",
              "                (&#x27;owakatitokenizer&#x27;,\n",
              "                 OwakatiTokenizer(dicdir=&#x27;/content/drive/MyDrive/mecab/mecab-ipadic-neologd&#x27;)),\n",
              "                (&#x27;countvectorizer&#x27;, CountVectorizer()),\n",
              "                (&#x27;truncatedsvd&#x27;, TruncatedSVD(n_components=300))])</pre><b>In a Jupyter environment, please rerun this cell to show the HTML representation or trust the notebook. <br />On GitHub, the HTML representation is unable to render, please try loading this page with nbviewer.org.</b></div><div class=\"sk-container\" hidden><div class=\"sk-item sk-dashed-wrapped\"><div class=\"sk-label-container\"><div class=\"sk-label sk-toggleable\"><input class=\"sk-toggleable__control sk-hidden--visually\" id=\"sk-estimator-id-1\" type=\"checkbox\" ><label for=\"sk-estimator-id-1\" class=\"sk-toggleable__label sk-toggleable__label-arrow\">Pipeline</label><div class=\"sk-toggleable__content\"><pre>Pipeline(steps=[(&#x27;preprocessconverter&#x27;, PreprocessConverter()),\n",
              "                (&#x27;owakatitokenizer&#x27;,\n",
              "                 OwakatiTokenizer(dicdir=&#x27;/content/drive/MyDrive/mecab/mecab-ipadic-neologd&#x27;)),\n",
              "                (&#x27;countvectorizer&#x27;, CountVectorizer()),\n",
              "                (&#x27;truncatedsvd&#x27;, TruncatedSVD(n_components=300))])</pre></div></div></div><div class=\"sk-serial\"><div class=\"sk-item\"><div class=\"sk-estimator sk-toggleable\"><input class=\"sk-toggleable__control sk-hidden--visually\" id=\"sk-estimator-id-2\" type=\"checkbox\" ><label for=\"sk-estimator-id-2\" class=\"sk-toggleable__label sk-toggleable__label-arrow\">PreprocessConverter</label><div class=\"sk-toggleable__content\"><pre>PreprocessConverter()</pre></div></div></div><div class=\"sk-item\"><div class=\"sk-estimator sk-toggleable\"><input class=\"sk-toggleable__control sk-hidden--visually\" id=\"sk-estimator-id-3\" type=\"checkbox\" ><label for=\"sk-estimator-id-3\" class=\"sk-toggleable__label sk-toggleable__label-arrow\">OwakatiTokenizer</label><div class=\"sk-toggleable__content\"><pre>OwakatiTokenizer(dicdir=&#x27;/content/drive/MyDrive/mecab/mecab-ipadic-neologd&#x27;)</pre></div></div></div><div class=\"sk-item\"><div class=\"sk-estimator sk-toggleable\"><input class=\"sk-toggleable__control sk-hidden--visually\" id=\"sk-estimator-id-4\" type=\"checkbox\" ><label for=\"sk-estimator-id-4\" class=\"sk-toggleable__label sk-toggleable__label-arrow\">CountVectorizer</label><div class=\"sk-toggleable__content\"><pre>CountVectorizer()</pre></div></div></div><div class=\"sk-item\"><div class=\"sk-estimator sk-toggleable\"><input class=\"sk-toggleable__control sk-hidden--visually\" id=\"sk-estimator-id-5\" type=\"checkbox\" ><label for=\"sk-estimator-id-5\" class=\"sk-toggleable__label sk-toggleable__label-arrow\">TruncatedSVD</label><div class=\"sk-toggleable__content\"><pre>TruncatedSVD(n_components=300)</pre></div></div></div></div></div></div></div>"
            ]
          },
          "metadata": {},
          "execution_count": 3
        }
      ],
      "source": [
        "import os\n",
        "import pandas as pd\n",
        "\n",
        "df_matter =  pd.DataFrame(json.load(open(\"****\",\"r\"))[\"data\"])\n",
        "df_person =  pd.DataFrame(json.load(open(\"****\",\"r\"))[\"data\"])\n",
        "df = pd.concat([df_matter,df_person],)\n",
        "feature_pipeline.fit(df['body'])"
      ]
    },
    {
      "cell_type": "code",
      "source": [
        "from skimage.util.shape import view_as_windows as viewW\n",
        "from scipy import signal\n",
        "from scipy import fftpack\n",
        "from itertools import zip_longest\n",
        "def strided_indexing_roll(a, r):\n",
        "    a_ext = np.concatenate((a,a[:,:-1]),axis=1)\n",
        "    n = a.shape[1]\n",
        "    return viewW(a_ext,(1,n))[np.arange(len(r)), (n-r)%n,0]\n",
        "\n",
        "def find_peaks(x, threshold,distance):\n",
        "    above_thre = x > threshold\n",
        "    above_thre_smooth = np.convolve(above_thre, [True]*5,mode=\"same\")\n",
        "    indices = np.argwhere((above_thre_smooth)^ (np.concatenate([[False], above_thre_smooth[:-1]]))).flatten()[::2]\n",
        "    indices = list(zip_longest(indices,indices[1:],fillvalue=len(x)))\n",
        "    return list(filter(lambda x:x[1]-x[0] >= distance,indices))\n",
        "def cossim(mx,smooth=True):\n",
        "    norm = (mx * mx).sum(0, keepdims=True) ** .5 + 1e-16\n",
        "    sim_mat = mx.T @ mx / norm / norm.T\n",
        "    if not smooth:\n",
        "        return sim_mat\n",
        "    rolled = strided_indexing_roll(sim_mat,-np.arange(len(sim_mat)))\n",
        "    averaged = np.apply_along_axis(np.convolve, 0, rolled, np.ones(5)/5, mode=\"same\")\n",
        "    return strided_indexing_roll(averaged,np.arange(len(sim_mat)))\n",
        "def multiple_indices(mt):\n",
        "    ssm = cossim(mt.T**2)\n",
        "    ssm[np.diag_indices(len(ssm))] = 0\n",
        "    ssm_max = np.max(ssm,axis=0)\n",
        "    #argwhere でとってきた最初のindexで、find_peaks(ssm[:,index])とするほうがいい？\n",
        "    indices =find_peaks(ssm_max,threshold=0.8,distance=3)\n",
        "    return indices"
      ],
      "metadata": {
        "id": "uOJo77iV3QIH"
      },
      "execution_count": null,
      "outputs": []
    },
    {
      "cell_type": "code",
      "source": [],
      "metadata": {
        "id": "N-X9Hv_I3YlT"
      },
      "execution_count": null,
      "outputs": []
    },
    {
      "cell_type": "code",
      "execution_count": null,
      "metadata": {
        "id": "sa7qpHomJGiH"
      },
      "outputs": [],
      "source": []
    },
    {
      "cell_type": "code",
      "execution_count": null,
      "metadata": {
        "id": "AfTcyNP9OSN0"
      },
      "outputs": [],
      "source": []
    },
    {
      "cell_type": "code",
      "source": [
        "%%time \n",
        "d = df_multi[df_multi['id']=='852']['body']\n",
        "\n",
        "mt = d.apply(lambda x:x.split('\\n')).apply(feature_pipeline[:2].transform).apply(lambda x:list(map(lambda y:y.split(\" \")[0],x))).apply(feature_pipeline[2:].transform).apply(np.array).values[0]\n",
        "ssm= cossim(mt.T **2)\n",
        "plt.imshow(ssm)\n",
        "plt.show()\n",
        "plt.plot(range(len(ssm)),np.max(ssm,axis=0))"
      ],
      "metadata": {
        "colab": {
          "base_uri": "https://localhost:8080/",
          "height": 897
        },
        "id": "kzOp5r4Fez30",
        "outputId": "bcb85e5e-6127-4a4d-a077-0c8281c9389a"
      },
      "execution_count": null,
      "outputs": [
        {
          "output_type": "display_data",
          "data": {
            "text/plain": [
              "<Figure size 640x480 with 1 Axes>"
            ],
            "image/png": "[encoded data removed]"
          },
          "metadata": {}
        },
        {
          "output_type": "stream",
          "name": "stdout",
          "text": [
            "CPU times: user 288 ms, sys: 38 ms, total: 326 ms\n",
            "Wall time: 386 ms\n"
          ]
        },
        {
          "output_type": "execute_result",
          "data": {
            "text/plain": [
              "[<matplotlib.lines.Line2D at 0x7f3dbabe7fd0>]"
            ]
          },
          "metadata": {},
          "execution_count": 26
        },
        {
          "output_type": "display_data",
          "data": {
            "text/plain": [
              "<Figure size 640x480 with 1 Axes>"
            ],
            "image/png": "[encoded data removed]"
          },
          "metadata": {}
        }
      ]
    },
    {
      "cell_type": "code",
      "source": [],
      "metadata": {
        "id": "mPnmZslUg86q"
      },
      "execution_count": null,
      "outputs": []
    },
    {
      "cell_type": "code",
      "source": [],
      "metadata": {
        "id": "47I-YqUc3uVC"
      },
      "execution_count": null,
      "outputs": []
    }
  ],
  "metadata": {
    "colab": {
      "provenance": []
    },
    "gpuClass": "standard",
    "kernelspec": {
      "display_name": "Python 3",
      "name": "python3"
    },
    "language_info": {
      "name": "python"
    }
  },
  "nbformat": 4,
  "nbformat_minor": 0
}